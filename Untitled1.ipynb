{
 "cells": [
  {
   "cell_type": "code",
   "execution_count": 74,
   "id": "ae149704",
   "metadata": {},
   "outputs": [
    {
     "data": {
      "text/plain": [
       "1500"
      ]
     },
     "execution_count": 74,
     "metadata": {},
     "output_type": "execute_result"
    }
   ],
   "source": [
    "def summation(list1):\n",
    "    s = 0\n",
    "    for i in list1:\n",
    "        s += i\n",
    "    return s\n",
    "summation([100,200,300,400,500])\n",
    "        "
   ]
  },
  {
   "cell_type": "code",
   "execution_count": 75,
   "id": "2df3fd76",
   "metadata": {},
   "outputs": [
    {
     "data": {
      "text/plain": [
       "'yrtnuoc ym si aidni'"
      ]
     },
     "execution_count": 75,
     "metadata": {},
     "output_type": "execute_result"
    }
   ],
   "source": [
    "def rev(string):\n",
    "    for i in string:\n",
    "        return string[::-1]\n",
    "rev('india is my country')"
   ]
  },
  {
   "cell_type": "code",
   "execution_count": 73,
   "id": "46503e8a",
   "metadata": {},
   "outputs": [
    {
     "data": {
      "text/plain": [
       "('no of upper case characters', 6, 'no of lower characters', 6)"
      ]
     },
     "execution_count": 73,
     "metadata": {},
     "output_type": "execute_result"
    }
   ],
   "source": [
    "def upperlower(string1):\n",
    "    upper = 0\n",
    "    lower = 0\n",
    "    for i in string1:\n",
    "        if i.isupper():\n",
    "            upper +=1\n",
    "        elif i.islower():\n",
    "            lower +=1\n",
    "        else:\n",
    "            pass\n",
    "    return 'no of upper case characters',upper ,'no of lower characters',lower\n",
    "upperlower('prasadELLAPU8978009011')"
   ]
  },
  {
   "cell_type": "code",
   "execution_count": null,
   "id": "12228a41",
   "metadata": {},
   "outputs": [],
   "source": []
  }
 ],
 "metadata": {
  "kernelspec": {
   "display_name": "Python 3 (ipykernel)",
   "language": "python",
   "name": "python3"
  },
  "language_info": {
   "codemirror_mode": {
    "name": "ipython",
    "version": 3
   },
   "file_extension": ".py",
   "mimetype": "text/x-python",
   "name": "python",
   "nbconvert_exporter": "python",
   "pygments_lexer": "ipython3",
   "version": "3.10.0"
  }
 },
 "nbformat": 4,
 "nbformat_minor": 5
}
